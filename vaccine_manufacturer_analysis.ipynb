{
 "cells": [
  {
   "cell_type": "code",
   "execution_count": 1,
   "id": "97a29488-c161-42b7-a30a-1947aa8a0ce9",
   "metadata": {},
   "outputs": [],
   "source": [
    "#import depend\n",
    "import os\n",
    "import pandas as pd\n",
    "import matplotlib.pyplot as plt\n",
    "import numpy as np\n",
    "from scipy.stats import linregress"
   ]
  },
  {
   "cell_type": "code",
   "execution_count": 2,
   "id": "e8c9321e-1794-4dd1-b765-8fba318448e7",
   "metadata": {},
   "outputs": [
    {
     "data": {
      "text/html": [
       "<div>\n",
       "<style scoped>\n",
       "    .dataframe tbody tr th:only-of-type {\n",
       "        vertical-align: middle;\n",
       "    }\n",
       "\n",
       "    .dataframe tbody tr th {\n",
       "        vertical-align: top;\n",
       "    }\n",
       "\n",
       "    .dataframe thead th {\n",
       "        text-align: right;\n",
       "    }\n",
       "</style>\n",
       "<table border=\"1\" class=\"dataframe\">\n",
       "  <thead>\n",
       "    <tr style=\"text-align: right;\">\n",
       "      <th></th>\n",
       "      <th>country</th>\n",
       "      <th>iso_code</th>\n",
       "      <th>date</th>\n",
       "      <th>total_vaccinations</th>\n",
       "      <th>people_vaccinated</th>\n",
       "      <th>people_fully_vaccinated</th>\n",
       "      <th>daily_vaccinations_raw</th>\n",
       "      <th>daily_vaccinations</th>\n",
       "      <th>total_vaccinations_per_hundred</th>\n",
       "      <th>people_vaccinated_per_hundred</th>\n",
       "      <th>people_fully_vaccinated_per_hundred</th>\n",
       "      <th>daily_vaccinations_per_million</th>\n",
       "      <th>vaccines</th>\n",
       "      <th>source_name</th>\n",
       "      <th>source_website</th>\n",
       "    </tr>\n",
       "  </thead>\n",
       "  <tbody>\n",
       "    <tr>\n",
       "      <th>0</th>\n",
       "      <td>Afghanistan</td>\n",
       "      <td>AFG</td>\n",
       "      <td>2021-02-22</td>\n",
       "      <td>0.0</td>\n",
       "      <td>0.0</td>\n",
       "      <td>NaN</td>\n",
       "      <td>NaN</td>\n",
       "      <td>NaN</td>\n",
       "      <td>0.0</td>\n",
       "      <td>0.0</td>\n",
       "      <td>NaN</td>\n",
       "      <td>NaN</td>\n",
       "      <td>Johnson&amp;Johnson, Oxford/AstraZeneca, Pfizer/Bi...</td>\n",
       "      <td>World Health Organization</td>\n",
       "      <td>https://reliefweb.int/sites/reliefweb.int/file...</td>\n",
       "    </tr>\n",
       "    <tr>\n",
       "      <th>1</th>\n",
       "      <td>Afghanistan</td>\n",
       "      <td>AFG</td>\n",
       "      <td>2021-02-23</td>\n",
       "      <td>NaN</td>\n",
       "      <td>NaN</td>\n",
       "      <td>NaN</td>\n",
       "      <td>NaN</td>\n",
       "      <td>1367.0</td>\n",
       "      <td>NaN</td>\n",
       "      <td>NaN</td>\n",
       "      <td>NaN</td>\n",
       "      <td>34.0</td>\n",
       "      <td>Johnson&amp;Johnson, Oxford/AstraZeneca, Pfizer/Bi...</td>\n",
       "      <td>World Health Organization</td>\n",
       "      <td>https://reliefweb.int/sites/reliefweb.int/file...</td>\n",
       "    </tr>\n",
       "    <tr>\n",
       "      <th>2</th>\n",
       "      <td>Afghanistan</td>\n",
       "      <td>AFG</td>\n",
       "      <td>2021-02-24</td>\n",
       "      <td>NaN</td>\n",
       "      <td>NaN</td>\n",
       "      <td>NaN</td>\n",
       "      <td>NaN</td>\n",
       "      <td>1367.0</td>\n",
       "      <td>NaN</td>\n",
       "      <td>NaN</td>\n",
       "      <td>NaN</td>\n",
       "      <td>34.0</td>\n",
       "      <td>Johnson&amp;Johnson, Oxford/AstraZeneca, Pfizer/Bi...</td>\n",
       "      <td>World Health Organization</td>\n",
       "      <td>https://reliefweb.int/sites/reliefweb.int/file...</td>\n",
       "    </tr>\n",
       "    <tr>\n",
       "      <th>3</th>\n",
       "      <td>Afghanistan</td>\n",
       "      <td>AFG</td>\n",
       "      <td>2021-02-25</td>\n",
       "      <td>NaN</td>\n",
       "      <td>NaN</td>\n",
       "      <td>NaN</td>\n",
       "      <td>NaN</td>\n",
       "      <td>1367.0</td>\n",
       "      <td>NaN</td>\n",
       "      <td>NaN</td>\n",
       "      <td>NaN</td>\n",
       "      <td>34.0</td>\n",
       "      <td>Johnson&amp;Johnson, Oxford/AstraZeneca, Pfizer/Bi...</td>\n",
       "      <td>World Health Organization</td>\n",
       "      <td>https://reliefweb.int/sites/reliefweb.int/file...</td>\n",
       "    </tr>\n",
       "    <tr>\n",
       "      <th>4</th>\n",
       "      <td>Afghanistan</td>\n",
       "      <td>AFG</td>\n",
       "      <td>2021-02-26</td>\n",
       "      <td>NaN</td>\n",
       "      <td>NaN</td>\n",
       "      <td>NaN</td>\n",
       "      <td>NaN</td>\n",
       "      <td>1367.0</td>\n",
       "      <td>NaN</td>\n",
       "      <td>NaN</td>\n",
       "      <td>NaN</td>\n",
       "      <td>34.0</td>\n",
       "      <td>Johnson&amp;Johnson, Oxford/AstraZeneca, Pfizer/Bi...</td>\n",
       "      <td>World Health Organization</td>\n",
       "      <td>https://reliefweb.int/sites/reliefweb.int/file...</td>\n",
       "    </tr>\n",
       "  </tbody>\n",
       "</table>\n",
       "</div>"
      ],
      "text/plain": [
       "       country iso_code        date  total_vaccinations  people_vaccinated  \\\n",
       "0  Afghanistan      AFG  2021-02-22                 0.0                0.0   \n",
       "1  Afghanistan      AFG  2021-02-23                 NaN                NaN   \n",
       "2  Afghanistan      AFG  2021-02-24                 NaN                NaN   \n",
       "3  Afghanistan      AFG  2021-02-25                 NaN                NaN   \n",
       "4  Afghanistan      AFG  2021-02-26                 NaN                NaN   \n",
       "\n",
       "   people_fully_vaccinated  daily_vaccinations_raw  daily_vaccinations  \\\n",
       "0                      NaN                     NaN                 NaN   \n",
       "1                      NaN                     NaN              1367.0   \n",
       "2                      NaN                     NaN              1367.0   \n",
       "3                      NaN                     NaN              1367.0   \n",
       "4                      NaN                     NaN              1367.0   \n",
       "\n",
       "   total_vaccinations_per_hundred  people_vaccinated_per_hundred  \\\n",
       "0                             0.0                            0.0   \n",
       "1                             NaN                            NaN   \n",
       "2                             NaN                            NaN   \n",
       "3                             NaN                            NaN   \n",
       "4                             NaN                            NaN   \n",
       "\n",
       "   people_fully_vaccinated_per_hundred  daily_vaccinations_per_million  \\\n",
       "0                                  NaN                             NaN   \n",
       "1                                  NaN                            34.0   \n",
       "2                                  NaN                            34.0   \n",
       "3                                  NaN                            34.0   \n",
       "4                                  NaN                            34.0   \n",
       "\n",
       "                                            vaccines  \\\n",
       "0  Johnson&Johnson, Oxford/AstraZeneca, Pfizer/Bi...   \n",
       "1  Johnson&Johnson, Oxford/AstraZeneca, Pfizer/Bi...   \n",
       "2  Johnson&Johnson, Oxford/AstraZeneca, Pfizer/Bi...   \n",
       "3  Johnson&Johnson, Oxford/AstraZeneca, Pfizer/Bi...   \n",
       "4  Johnson&Johnson, Oxford/AstraZeneca, Pfizer/Bi...   \n",
       "\n",
       "                 source_name  \\\n",
       "0  World Health Organization   \n",
       "1  World Health Organization   \n",
       "2  World Health Organization   \n",
       "3  World Health Organization   \n",
       "4  World Health Organization   \n",
       "\n",
       "                                      source_website  \n",
       "0  https://reliefweb.int/sites/reliefweb.int/file...  \n",
       "1  https://reliefweb.int/sites/reliefweb.int/file...  \n",
       "2  https://reliefweb.int/sites/reliefweb.int/file...  \n",
       "3  https://reliefweb.int/sites/reliefweb.int/file...  \n",
       "4  https://reliefweb.int/sites/reliefweb.int/file...  "
      ]
     },
     "execution_count": 2,
     "metadata": {},
     "output_type": "execute_result"
    }
   ],
   "source": [
    "#create and read file\n",
    "vax_file = './Resources/country_vaccinations.csv'\n",
    "\n",
    "main_csv = pd.read_csv(vax_file)\n",
    "\n",
    "main_csv.head()"
   ]
  },
  {
   "cell_type": "code",
   "execution_count": 3,
   "id": "2531da5f-8ab4-46ae-8568-1c262f3f0f0c",
   "metadata": {},
   "outputs": [
    {
     "data": {
      "text/html": [
       "<div>\n",
       "<style scoped>\n",
       "    .dataframe tbody tr th:only-of-type {\n",
       "        vertical-align: middle;\n",
       "    }\n",
       "\n",
       "    .dataframe tbody tr th {\n",
       "        vertical-align: top;\n",
       "    }\n",
       "\n",
       "    .dataframe thead th {\n",
       "        text-align: right;\n",
       "    }\n",
       "</style>\n",
       "<table border=\"1\" class=\"dataframe\">\n",
       "  <thead>\n",
       "    <tr style=\"text-align: right;\">\n",
       "      <th></th>\n",
       "      <th>country</th>\n",
       "      <th>date</th>\n",
       "      <th>total_vaccinations</th>\n",
       "      <th>people_vaccinated</th>\n",
       "      <th>people_fully_vaccinated</th>\n",
       "      <th>daily_vaccinations_raw</th>\n",
       "      <th>average_daily_vaccinations</th>\n",
       "      <th>total_vaccinations_per_hundred</th>\n",
       "      <th>people_vaccinated_per_hundred</th>\n",
       "      <th>people_fully_vaccinated_per_hundred</th>\n",
       "      <th>average_daily_vaccinations_per_million</th>\n",
       "    </tr>\n",
       "  </thead>\n",
       "  <tbody>\n",
       "    <tr>\n",
       "      <th>0</th>\n",
       "      <td>Afghanistan</td>\n",
       "      <td>02-2021</td>\n",
       "      <td>8200.0</td>\n",
       "      <td>8200.0</td>\n",
       "      <td>0.0</td>\n",
       "      <td>0.000000</td>\n",
       "      <td>1171.714286</td>\n",
       "      <td>0.02</td>\n",
       "      <td>0.02</td>\n",
       "      <td>0.00</td>\n",
       "      <td>29.142857</td>\n",
       "    </tr>\n",
       "    <tr>\n",
       "      <th>1</th>\n",
       "      <td>Afghanistan</td>\n",
       "      <td>03-2021</td>\n",
       "      <td>54000.0</td>\n",
       "      <td>54000.0</td>\n",
       "      <td>0.0</td>\n",
       "      <td>0.000000</td>\n",
       "      <td>2770.774194</td>\n",
       "      <td>0.14</td>\n",
       "      <td>0.14</td>\n",
       "      <td>0.00</td>\n",
       "      <td>69.483871</td>\n",
       "    </tr>\n",
       "    <tr>\n",
       "      <th>2</th>\n",
       "      <td>Afghanistan</td>\n",
       "      <td>04-2021</td>\n",
       "      <td>240000.0</td>\n",
       "      <td>240000.0</td>\n",
       "      <td>0.0</td>\n",
       "      <td>0.000000</td>\n",
       "      <td>7320.200000</td>\n",
       "      <td>0.60</td>\n",
       "      <td>0.60</td>\n",
       "      <td>0.00</td>\n",
       "      <td>183.700000</td>\n",
       "    </tr>\n",
       "    <tr>\n",
       "      <th>3</th>\n",
       "      <td>Afghanistan</td>\n",
       "      <td>05-2021</td>\n",
       "      <td>600152.0</td>\n",
       "      <td>480226.0</td>\n",
       "      <td>119926.0</td>\n",
       "      <td>92.225806</td>\n",
       "      <td>9220.580645</td>\n",
       "      <td>1.51</td>\n",
       "      <td>1.21</td>\n",
       "      <td>0.30</td>\n",
       "      <td>231.322581</td>\n",
       "    </tr>\n",
       "    <tr>\n",
       "      <th>4</th>\n",
       "      <td>Afghanistan</td>\n",
       "      <td>06-2021</td>\n",
       "      <td>886854.0</td>\n",
       "      <td>699200.0</td>\n",
       "      <td>187654.0</td>\n",
       "      <td>133.833333</td>\n",
       "      <td>8096.633333</td>\n",
       "      <td>2.23</td>\n",
       "      <td>1.76</td>\n",
       "      <td>0.47</td>\n",
       "      <td>203.233333</td>\n",
       "    </tr>\n",
       "  </tbody>\n",
       "</table>\n",
       "</div>"
      ],
      "text/plain": [
       "       country     date  total_vaccinations  people_vaccinated  \\\n",
       "0  Afghanistan  02-2021              8200.0             8200.0   \n",
       "1  Afghanistan  03-2021             54000.0            54000.0   \n",
       "2  Afghanistan  04-2021            240000.0           240000.0   \n",
       "3  Afghanistan  05-2021            600152.0           480226.0   \n",
       "4  Afghanistan  06-2021            886854.0           699200.0   \n",
       "\n",
       "   people_fully_vaccinated  daily_vaccinations_raw  \\\n",
       "0                      0.0                0.000000   \n",
       "1                      0.0                0.000000   \n",
       "2                      0.0                0.000000   \n",
       "3                 119926.0               92.225806   \n",
       "4                 187654.0              133.833333   \n",
       "\n",
       "   average_daily_vaccinations  total_vaccinations_per_hundred  \\\n",
       "0                 1171.714286                            0.02   \n",
       "1                 2770.774194                            0.14   \n",
       "2                 7320.200000                            0.60   \n",
       "3                 9220.580645                            1.51   \n",
       "4                 8096.633333                            2.23   \n",
       "\n",
       "   people_vaccinated_per_hundred  people_fully_vaccinated_per_hundred  \\\n",
       "0                           0.02                                 0.00   \n",
       "1                           0.14                                 0.00   \n",
       "2                           0.60                                 0.00   \n",
       "3                           1.21                                 0.30   \n",
       "4                           1.76                                 0.47   \n",
       "\n",
       "   average_daily_vaccinations_per_million  \n",
       "0                               29.142857  \n",
       "1                               69.483871  \n",
       "2                              183.700000  \n",
       "3                              231.322581  \n",
       "4                              203.233333  "
      ]
     },
     "execution_count": 3,
     "metadata": {},
     "output_type": "execute_result"
    }
   ],
   "source": [
    "#fills NaN with 0\n",
    "vax_csv_0 = main_csv.fillna(0)\n",
    "#convert 'date' to datetime\n",
    "vax_csv_0['date']= pd.to_datetime(vax_csv_0['date'])\n",
    "#aggregates data by month and country and performs max and average as required\n",
    "vax_csv = vax_csv_0.groupby(['country',pd.Grouper(key='date',freq='M')]).aggregate({'total_vaccinations':np.max,\n",
    "                                                                                      'people_vaccinated':np.max,\n",
    "                                                                                      'people_fully_vaccinated':np.max,\n",
    "                                                                                      'daily_vaccinations_raw':np.average,\n",
    "                                                                                      'daily_vaccinations':np.average,\n",
    "                                                                                      'total_vaccinations_per_hundred':np.max,\n",
    "                                                                                      'people_vaccinated_per_hundred':np.max,\n",
    "                                                                                      'people_fully_vaccinated_per_hundred':np.max,\n",
    "                                                                                      'daily_vaccinations_per_million':np.average,\n",
    "                                                                                    })\n",
    "#reset index\n",
    "vax_csv = vax_csv.reset_index()\n",
    "\n",
    "#rename columns\n",
    "vax_csv = vax_csv.rename(columns={'daily_vaccinations':'average_daily_vaccinations',\n",
    "                                      'daily_vaccinations_per_million':'average_daily_vaccinations_per_million'})\n",
    "\n",
    "vax_csv['date'] = pd.DatetimeIndex(vax_csv['date']).strftime('%m-%Y')\n",
    "\n",
    "#display dataframe\n",
    "vax_csv.head()"
   ]
  },
  {
   "cell_type": "code",
   "execution_count": 4,
   "id": "e01bf78b-bf42-4795-87e2-70bf9e930b01",
   "metadata": {},
   "outputs": [
    {
     "data": {
      "text/html": [
       "<div>\n",
       "<style scoped>\n",
       "    .dataframe tbody tr th:only-of-type {\n",
       "        vertical-align: middle;\n",
       "    }\n",
       "\n",
       "    .dataframe tbody tr th {\n",
       "        vertical-align: top;\n",
       "    }\n",
       "\n",
       "    .dataframe thead th {\n",
       "        text-align: right;\n",
       "    }\n",
       "</style>\n",
       "<table border=\"1\" class=\"dataframe\">\n",
       "  <thead>\n",
       "    <tr style=\"text-align: right;\">\n",
       "      <th></th>\n",
       "      <th>total_vaccinations</th>\n",
       "      <th>people_vaccinated</th>\n",
       "      <th>people_fully_vaccinated</th>\n",
       "      <th>daily_vaccinations_raw</th>\n",
       "      <th>average_daily_vaccinations</th>\n",
       "      <th>total_vaccinations_per_hundred</th>\n",
       "      <th>people_vaccinated_per_hundred</th>\n",
       "      <th>people_fully_vaccinated_per_hundred</th>\n",
       "      <th>average_daily_vaccinations_per_million</th>\n",
       "      <th>number of vaccines available</th>\n",
       "    </tr>\n",
       "    <tr>\n",
       "      <th>country</th>\n",
       "      <th></th>\n",
       "      <th></th>\n",
       "      <th></th>\n",
       "      <th></th>\n",
       "      <th></th>\n",
       "      <th></th>\n",
       "      <th></th>\n",
       "      <th></th>\n",
       "      <th></th>\n",
       "      <th></th>\n",
       "    </tr>\n",
       "  </thead>\n",
       "  <tbody>\n",
       "    <tr>\n",
       "      <th>Afghanistan</th>\n",
       "      <td>5228706.0</td>\n",
       "      <td>4397449.0</td>\n",
       "      <td>3566192.0</td>\n",
       "      <td>22.605914</td>\n",
       "      <td>17779.442994</td>\n",
       "      <td>13.13</td>\n",
       "      <td>11.04</td>\n",
       "      <td>8.95</td>\n",
       "      <td>446.279758</td>\n",
       "      <td>4</td>\n",
       "    </tr>\n",
       "    <tr>\n",
       "      <th>Albania</th>\n",
       "      <td>2166207.0</td>\n",
       "      <td>1092316.0</td>\n",
       "      <td>982658.0</td>\n",
       "      <td>3956.972571</td>\n",
       "      <td>6272.566054</td>\n",
       "      <td>75.40</td>\n",
       "      <td>38.02</td>\n",
       "      <td>34.20</td>\n",
       "      <td>2183.286407</td>\n",
       "      <td>4</td>\n",
       "    </tr>\n",
       "    <tr>\n",
       "      <th>Algeria</th>\n",
       "      <td>12293060.0</td>\n",
       "      <td>6875003.0</td>\n",
       "      <td>5391232.0</td>\n",
       "      <td>518.351515</td>\n",
       "      <td>36317.677587</td>\n",
       "      <td>27.55</td>\n",
       "      <td>15.41</td>\n",
       "      <td>12.08</td>\n",
       "      <td>813.838402</td>\n",
       "      <td>4</td>\n",
       "    </tr>\n",
       "    <tr>\n",
       "      <th>Andorra</th>\n",
       "      <td>106428.0</td>\n",
       "      <td>56095.0</td>\n",
       "      <td>50333.0</td>\n",
       "      <td>13.338889</td>\n",
       "      <td>297.700077</td>\n",
       "      <td>137.59</td>\n",
       "      <td>72.52</td>\n",
       "      <td>65.07</td>\n",
       "      <td>3848.483897</td>\n",
       "      <td>3</td>\n",
       "    </tr>\n",
       "    <tr>\n",
       "      <th>Angola</th>\n",
       "      <td>10319552.0</td>\n",
       "      <td>7003795.0</td>\n",
       "      <td>3315757.0</td>\n",
       "      <td>0.000000</td>\n",
       "      <td>38835.826559</td>\n",
       "      <td>30.41</td>\n",
       "      <td>20.64</td>\n",
       "      <td>9.77</td>\n",
       "      <td>1144.471470</td>\n",
       "      <td>1</td>\n",
       "    </tr>\n",
       "  </tbody>\n",
       "</table>\n",
       "</div>"
      ],
      "text/plain": [
       "             total_vaccinations  people_vaccinated  people_fully_vaccinated  \\\n",
       "country                                                                       \n",
       "Afghanistan           5228706.0          4397449.0                3566192.0   \n",
       "Albania               2166207.0          1092316.0                 982658.0   \n",
       "Algeria              12293060.0          6875003.0                5391232.0   \n",
       "Andorra                106428.0            56095.0                  50333.0   \n",
       "Angola               10319552.0          7003795.0                3315757.0   \n",
       "\n",
       "             daily_vaccinations_raw  average_daily_vaccinations  \\\n",
       "country                                                           \n",
       "Afghanistan               22.605914                17779.442994   \n",
       "Albania                 3956.972571                 6272.566054   \n",
       "Algeria                  518.351515                36317.677587   \n",
       "Andorra                   13.338889                  297.700077   \n",
       "Angola                     0.000000                38835.826559   \n",
       "\n",
       "             total_vaccinations_per_hundred  people_vaccinated_per_hundred  \\\n",
       "country                                                                      \n",
       "Afghanistan                           13.13                          11.04   \n",
       "Albania                               75.40                          38.02   \n",
       "Algeria                               27.55                          15.41   \n",
       "Andorra                              137.59                          72.52   \n",
       "Angola                                30.41                          20.64   \n",
       "\n",
       "             people_fully_vaccinated_per_hundred  \\\n",
       "country                                            \n",
       "Afghanistan                                 8.95   \n",
       "Albania                                    34.20   \n",
       "Algeria                                    12.08   \n",
       "Andorra                                    65.07   \n",
       "Angola                                      9.77   \n",
       "\n",
       "             average_daily_vaccinations_per_million  \\\n",
       "country                                               \n",
       "Afghanistan                              446.279758   \n",
       "Albania                                 2183.286407   \n",
       "Algeria                                  813.838402   \n",
       "Andorra                                 3848.483897   \n",
       "Angola                                  1144.471470   \n",
       "\n",
       "             number of vaccines available  \n",
       "country                                    \n",
       "Afghanistan                             4  \n",
       "Albania                                 4  \n",
       "Algeria                                 4  \n",
       "Andorra                                 3  \n",
       "Angola                                  1  "
      ]
     },
     "execution_count": 4,
     "metadata": {},
     "output_type": "execute_result"
    }
   ],
   "source": [
    "#creates a summary dataframe that gives the final/total values for the data set\n",
    "totals = vax_csv.groupby('country').aggregate({'total_vaccinations':np.max,                                                                                  \n",
    "                                               'people_vaccinated':np.max,\n",
    "                                               'people_fully_vaccinated':np.max,\n",
    "                                               'daily_vaccinations_raw':np.average,\n",
    "                                               'average_daily_vaccinations':np.average,\n",
    "                                               'total_vaccinations_per_hundred':np.max,\n",
    "                                               'people_vaccinated_per_hundred':np.max,\n",
    "                                               'people_fully_vaccinated_per_hundred':np.max,\n",
    "                                               'average_daily_vaccinations_per_million':np.average,})\n",
    "totals['number of vaccines available']=vax_csv_0['vaccines'].str.count(',').add(1).groupby(vax_csv_0.country).max()\n",
    "totals.head()"
   ]
  },
  {
   "cell_type": "code",
   "execution_count": 5,
   "id": "a1b4823b-2d66-4f51-bf37-3f6561b58d49",
   "metadata": {},
   "outputs": [
    {
     "name": "stdout",
     "output_type": "stream",
     "text": [
      "Top 5 countries by percentage of people fully vaccinated\n",
      "country\n",
      "Gibraltar               118.34\n",
      "Pitcairn                100.00\n",
      "United Arab Emirates     90.18\n",
      "Portugal                 88.69\n",
      "Singapore                87.00\n",
      "Name: people_fully_vaccinated_per_hundred, dtype: float64\n"
     ]
    }
   ],
   "source": [
    "#displays 5 countries with the highest percantage of people vaccinated\n",
    "print('Top 5 countries by percentage of people fully vaccinated')\n",
    "print(totals['people_fully_vaccinated_per_hundred'].nlargest(5))"
   ]
  },
  {
   "cell_type": "code",
   "execution_count": 6,
   "id": "cdba9fed-fc0a-421f-9bc6-6525a91188c0",
   "metadata": {},
   "outputs": [
    {
     "name": "stdout",
     "output_type": "stream",
     "text": [
      "Bottom 5 countries by percentage of people fully vaccinated\n",
      "country\n",
      "Burundi                         0.01\n",
      "Democratic Republic of Congo    0.07\n",
      "Chad                            0.45\n",
      "Haiti                           0.58\n",
      "Guinea-Bissau                   1.00\n",
      "Name: people_fully_vaccinated_per_hundred, dtype: float64\n"
     ]
    }
   ],
   "source": [
    "#displays 5 countries with the lowest percantage of people vaccinated\n",
    "print('Bottom 5 countries by percentage of people fully vaccinated')\n",
    "print(totals['people_fully_vaccinated_per_hundred'].nsmallest(5))"
   ]
  },
  {
   "cell_type": "code",
   "execution_count": 7,
   "id": "a41d4a2b-2864-4d8d-bf16-7c7c3aa22420",
   "metadata": {},
   "outputs": [
    {
     "name": "stdout",
     "output_type": "stream",
     "text": [
      "count    223.000000\n",
      "mean       3.224215\n",
      "std        1.595022\n",
      "min        1.000000\n",
      "25%        2.000000\n",
      "50%        3.000000\n",
      "75%        4.000000\n",
      "max        8.000000\n",
      "Name: number of vaccines available, dtype: float64\n",
      "0    4\n",
      "dtype: int64\n"
     ]
    }
   ],
   "source": [
    "#summary statistics of the varities of vaccines\n",
    "print(totals['number of vaccines available'].describe())\n",
    "print(totals['number of vaccines available'].mode())"
   ]
  },
  {
   "cell_type": "code",
   "execution_count": 8,
   "id": "169b0f54-74c0-4a38-8e37-906d72a61c31",
   "metadata": {},
   "outputs": [
    {
     "name": "stdout",
     "output_type": "stream",
     "text": [
      "-1.0\n",
      "7.0\n"
     ]
    }
   ],
   "source": [
    "#find upper and lower bound of vaccines available\n",
    "iqr = 4 - 2\n",
    "lower_bound = 2 -(1.5*iqr)\n",
    "upper_bound = 4 +(1.5*iqr)\n",
    "print(lower_bound)\n",
    "print(upper_bound)"
   ]
  },
  {
   "cell_type": "code",
   "execution_count": 9,
   "id": "f2227de1-13fc-4455-a3e7-b0a8e8423a71",
   "metadata": {},
   "outputs": [
    {
     "name": "stdout",
     "output_type": "stream",
     "text": [
      "The maximum number of available vaccines is 8\n",
      "Thre are 8 countries with this number available\n",
      "['Laos', 'Libya', 'Mexico', 'Nicaragua', 'Paraguay', 'Philippines', 'Rwanda', 'Tunisia']\n"
     ]
    }
   ],
   "source": [
    "#excluding outliers, finds the countries with the most vaccine varities available\n",
    "maxvax = totals.loc[totals['number of vaccines available']==7].index\n",
    "maxvalue = totals['number of vaccines available'].max()\n",
    "print(f'The maximum number of available vaccines is {maxvalue}')\n",
    "print(f'Thre are {len(maxvax)} countries with this number available')\n",
    "print(list(maxvax))"
   ]
  },
  {
   "cell_type": "code",
   "execution_count": 10,
   "id": "82ec9388-8b78-4881-ac42-cabd427efcdb",
   "metadata": {},
   "outputs": [
    {
     "name": "stdout",
     "output_type": "stream",
     "text": [
      "The minimum number of available vaccines is 1\n",
      "Thre are 36 countries with this number available\n",
      "['Angola', 'Aruba', 'Burundi', 'Chad', 'Cook Islands', 'Democratic Republic of Congo', 'Equatorial Guinea', 'Ethiopia', 'Falkland Islands', 'Fiji', 'Gibraltar', 'Greenland', 'Guinea', 'Kiribati', 'Liberia', 'Mali', 'Monaco', 'Montserrat', 'Nauru', 'New Caledonia', 'Nigeria', 'Niue', 'Papua New Guinea', 'Pitcairn', 'Saint Helena', 'Saint Vincent and the Grenadines', 'Samoa', 'Sao Tome and Principe', 'Solomon Islands', 'Togo', 'Tokelau', 'Tonga', 'Turks and Caicos Islands', 'Tuvalu', 'Vanuatu', 'Wallis and Futuna']\n"
     ]
    }
   ],
   "source": [
    "minvax = totals.loc[totals['number of vaccines available']==1].index\n",
    "minvalue = totals['number of vaccines available'].min()\n",
    "print(f'The minimum number of available vaccines is {minvalue}')\n",
    "print(f'Thre are {len(minvax)} countries with this number available')\n",
    "print(list(minvax))"
   ]
  },
  {
   "cell_type": "code",
   "execution_count": 11,
   "id": "2fa256a2-42dc-4580-bf6a-ad77ad867a6c",
   "metadata": {},
   "outputs": [
    {
     "name": "stdout",
     "output_type": "stream",
     "text": [
      "Including outliers the maximum number of available vaccines is 8\n",
      "Thre are 8 countries with this number available\n",
      "['Laos', 'Libya', 'Mexico', 'Nicaragua', 'Paraguay', 'Philippines', 'Rwanda', 'Tunisia']\n"
     ]
    }
   ],
   "source": [
    "#find the countries with the most vaccine varities available including outliers\n",
    "outliers = totals.loc[totals['number of vaccines available']==totals['number of vaccines available'].max()].index\n",
    "outliervalue = totals['number of vaccines available'].max()\n",
    "print(f'Including outliers the maximum number of available vaccines is {maxvalue}')\n",
    "print(f'Thre are {len(maxvax)} countries with this number available')\n",
    "print(list(maxvax))"
   ]
  },
  {
   "cell_type": "code",
   "execution_count": 12,
   "id": "679b6084-c6d6-4a67-b677-c6584fe234f8",
   "metadata": {},
   "outputs": [
    {
     "data": {
      "image/png": "[encoded data removed]",
      "text/plain": [
       "<Figure size 432x288 with 1 Axes>"
      ]
     },
     "metadata": {
      "needs_background": "light"
     },
     "output_type": "display_data"
    }
   ],
   "source": [
    "#boxplot showing the spread of vaccines available\n",
    "plt.boxplot(totals['number of vaccines available'])\n",
    "plt.title('Number of different vaccines available')\n",
    "plt.ylabel('No. of vaccines')\n",
    "\n",
    "plt.savefig('./Output/Manufacturer_Box')"
   ]
  },
  {
   "cell_type": "code",
   "execution_count": 13,
   "id": "a5de3949-9df0-4179-b996-893807e23c6a",
   "metadata": {},
   "outputs": [
    {
     "data": {
      "text/plain": [
       "Text(0.5, 1.0, 'Types of Vaccine available vs Total Vaccinations Per Hundred People ')"
      ]
     },
     "execution_count": 13,
     "metadata": {},
     "output_type": "execute_result"
    },
    {
     "data": {
      "image/png": "[encoded data removed]",
      "text/plain": [
       "<Figure size 432x288 with 1 Axes>"
      ]
     },
     "metadata": {
      "needs_background": "light"
     },
     "output_type": "display_data"
    }
   ],
   "source": [
    "#scatter plot of Varieties of vaccines available vs total number of vaccinations in a country\n",
    "x_values = totals['number of vaccines available']\n",
    "y_values = totals['total_vaccinations_per_hundred']\n",
    "\n",
    "plt.scatter(x_values,y_values)\n",
    "plt.xlabel('Number of Vaccines Available')\n",
    "plt.ylabel('Total Vaccinations per Hundred')\n",
    "plt.title('Types of Vaccine available vs Total Vaccinations Per Hundred People ')"
   ]
  },
  {
   "cell_type": "code",
   "execution_count": 14,
   "id": "4f29ca7d-8ae0-4e99-a1c0-0ee67b401408",
   "metadata": {},
   "outputs": [
    {
     "name": "stdout",
     "output_type": "stream",
     "text": [
      "The r-squared is: 0.00011094771205505523\n"
     ]
    },
    {
     "data": {
      "image/png": "[encoded data removed]",
      "text/plain": [
       "<Figure size 432x288 with 1 Axes>"
      ]
     },
     "metadata": {
      "needs_background": "light"
     },
     "output_type": "display_data"
    }
   ],
   "source": [
    "#above chart with correlation and line of regression\n",
    "(slope, intercept, rvalue, pvalue, stderr) = linregress(x_values, y_values)\n",
    "regress_values = x_values * slope + intercept\n",
    "line_eq = \"y = \" + str(round(slope,2)) + \"x + \" + str(round(intercept,2))\n",
    "plt.scatter(x_values,y_values)\n",
    "plt.plot(x_values,regress_values,\"r-\")\n",
    "\n",
    "plt.annotate(line_eq,(6,10),fontsize=15,color=\"red\")\n",
    "plt.xlabel('Number of Vaccines Available')\n",
    "plt.ylabel('Total Vaccinations per Hundred')\n",
    "plt.title('Types of Vaccine available vs Total Vaccinations Per Hundred People ')\n",
    "print(f\"The r-squared is: {rvalue**2}\")\n",
    "plt.savefig('./Output/Country_Vacciniations_Scatter')"
   ]
  },
  {
   "cell_type": "code",
   "execution_count": 15,
   "id": "80ea2603-3d2a-4630-8d80-e30c5be8de7d",
   "metadata": {},
   "outputs": [],
   "source": [
    "#read vaccinations by manufacturer file\n",
    "vaccines_file = './Resources/vaccinations-by-manufacturer.csv'\n",
    "vaxman_df = pd.read_csv(vaccines_file)\n",
    "#drop eropean union to stop european countries being counted twice\n",
    "vaxman_df = vaxman_df.loc[vaxman_df['location']!= 'European Union']"
   ]
  },
  {
   "cell_type": "code",
   "execution_count": 16,
   "id": "1d36d6e2-d38f-4609-bc59-244866cd1982",
   "metadata": {},
   "outputs": [
    {
     "data": {
      "text/html": [
       "<div>\n",
       "<style scoped>\n",
       "    .dataframe tbody tr th:only-of-type {\n",
       "        vertical-align: middle;\n",
       "    }\n",
       "\n",
       "    .dataframe tbody tr th {\n",
       "        vertical-align: top;\n",
       "    }\n",
       "\n",
       "    .dataframe thead th {\n",
       "        text-align: right;\n",
       "    }\n",
       "</style>\n",
       "<table border=\"1\" class=\"dataframe\">\n",
       "  <thead>\n",
       "    <tr style=\"text-align: right;\">\n",
       "      <th></th>\n",
       "      <th>location</th>\n",
       "      <th>vaccine</th>\n",
       "      <th>total_vaccinations</th>\n",
       "    </tr>\n",
       "  </thead>\n",
       "  <tbody>\n",
       "    <tr>\n",
       "      <th>0</th>\n",
       "      <td>Austria</td>\n",
       "      <td>Johnson&amp;Johnson</td>\n",
       "      <td>350090</td>\n",
       "    </tr>\n",
       "    <tr>\n",
       "      <th>1</th>\n",
       "      <td>Austria</td>\n",
       "      <td>Moderna</td>\n",
       "      <td>1434420</td>\n",
       "    </tr>\n",
       "    <tr>\n",
       "      <th>2</th>\n",
       "      <td>Austria</td>\n",
       "      <td>Oxford/AstraZeneca</td>\n",
       "      <td>1580438</td>\n",
       "    </tr>\n",
       "    <tr>\n",
       "      <th>3</th>\n",
       "      <td>Austria</td>\n",
       "      <td>Pfizer/BioNTech</td>\n",
       "      <td>11899678</td>\n",
       "    </tr>\n",
       "    <tr>\n",
       "      <th>4</th>\n",
       "      <td>Belgium</td>\n",
       "      <td>Johnson&amp;Johnson</td>\n",
       "      <td>412183</td>\n",
       "    </tr>\n",
       "  </tbody>\n",
       "</table>\n",
       "</div>"
      ],
      "text/plain": [
       "  location             vaccine  total_vaccinations\n",
       "0  Austria     Johnson&Johnson              350090\n",
       "1  Austria             Moderna             1434420\n",
       "2  Austria  Oxford/AstraZeneca             1580438\n",
       "3  Austria     Pfizer/BioNTech            11899678\n",
       "4  Belgium     Johnson&Johnson              412183"
      ]
     },
     "execution_count": 16,
     "metadata": {},
     "output_type": "execute_result"
    }
   ],
   "source": [
    "#creates a dataframe to show the totals\n",
    "grpvax_df = vaxman_df.groupby(['location','vaccine'])\n",
    "\n",
    "vax_max = grpvax_df.max()\n",
    "\n",
    "vax_max = vax_max.reset_index()\n",
    "\n",
    "vax_max = vax_max.drop('date',1)\n",
    "\n",
    "vax_max.head()\n",
    "\n"
   ]
  },
  {
   "cell_type": "code",
   "execution_count": 17,
   "id": "f7ee9c7e-223c-47cb-9968-b9c18177b16c",
   "metadata": {},
   "outputs": [
    {
     "name": "stdout",
     "output_type": "stream",
     "text": [
      "39\n",
      "CanSino                2\n",
      "Johnson&Johnson       32\n",
      "Moderna               34\n",
      "Oxford/AstraZeneca    34\n",
      "Pfizer/BioNTech       39\n",
      "Sinopharm/Beijing      3\n",
      "Sinovac                6\n",
      "Sputnik V              2\n",
      "Name: vaccine, dtype: int64\n"
     ]
    }
   ],
   "source": [
    "#Shows how many countries from the data source each vaccine is available in\n",
    "print(len(vax_max['location'].unique()))\n",
    "print(vax_max['vaccine'].value_counts().sort_index())"
   ]
  },
  {
   "cell_type": "code",
   "execution_count": 18,
   "id": "37360c1a-dade-4aa8-b0e6-33917c989f56",
   "metadata": {},
   "outputs": [
    {
     "data": {
      "text/html": [
       "<div>\n",
       "<style scoped>\n",
       "    .dataframe tbody tr th:only-of-type {\n",
       "        vertical-align: middle;\n",
       "    }\n",
       "\n",
       "    .dataframe tbody tr th {\n",
       "        vertical-align: top;\n",
       "    }\n",
       "\n",
       "    .dataframe thead th {\n",
       "        text-align: right;\n",
       "    }\n",
       "</style>\n",
       "<table border=\"1\" class=\"dataframe\">\n",
       "  <thead>\n",
       "    <tr style=\"text-align: right;\">\n",
       "      <th></th>\n",
       "      <th>vaccine</th>\n",
       "      <th>total_vaccinations</th>\n",
       "    </tr>\n",
       "  </thead>\n",
       "  <tbody>\n",
       "    <tr>\n",
       "      <th>0</th>\n",
       "      <td>CanSino</td>\n",
       "      <td>573569</td>\n",
       "    </tr>\n",
       "    <tr>\n",
       "      <th>1</th>\n",
       "      <td>Johnson&amp;Johnson</td>\n",
       "      <td>17484608</td>\n",
       "    </tr>\n",
       "    <tr>\n",
       "      <th>2</th>\n",
       "      <td>Moderna</td>\n",
       "      <td>190503920</td>\n",
       "    </tr>\n",
       "    <tr>\n",
       "      <th>3</th>\n",
       "      <td>Oxford/AstraZeneca</td>\n",
       "      <td>22221186</td>\n",
       "    </tr>\n",
       "    <tr>\n",
       "      <th>4</th>\n",
       "      <td>Pfizer/BioNTech</td>\n",
       "      <td>290516041</td>\n",
       "    </tr>\n",
       "    <tr>\n",
       "      <th>5</th>\n",
       "      <td>Sinopharm/Beijing</td>\n",
       "      <td>17991059</td>\n",
       "    </tr>\n",
       "    <tr>\n",
       "      <th>6</th>\n",
       "      <td>Sinovac</td>\n",
       "      <td>24290027</td>\n",
       "    </tr>\n",
       "    <tr>\n",
       "      <th>7</th>\n",
       "      <td>Sputnik V</td>\n",
       "      <td>1807392</td>\n",
       "    </tr>\n",
       "  </tbody>\n",
       "</table>\n",
       "</div>"
      ],
      "text/plain": [
       "              vaccine  total_vaccinations\n",
       "0             CanSino              573569\n",
       "1     Johnson&Johnson            17484608\n",
       "2             Moderna           190503920\n",
       "3  Oxford/AstraZeneca            22221186\n",
       "4     Pfizer/BioNTech           290516041\n",
       "5   Sinopharm/Beijing            17991059\n",
       "6             Sinovac            24290027\n",
       "7           Sputnik V             1807392"
      ]
     },
     "execution_count": 18,
     "metadata": {},
     "output_type": "execute_result"
    }
   ],
   "source": [
    "man_df = vax_max.groupby('vaccine').max()\n",
    "\n",
    "man_df = man_df.reset_index()\n",
    "man_df = man_df.drop('location',1)\n",
    "\n",
    "man_df"
   ]
  },
  {
   "cell_type": "code",
   "execution_count": 19,
   "id": "77ba750a-f766-4c50-9c9d-ecad87000ba4",
   "metadata": {},
   "outputs": [
    {
     "data": {
      "image/png": "[encoded data removed]",
      "text/plain": [
       "<Figure size 720x720 with 1 Axes>"
      ]
     },
     "metadata": {},
     "output_type": "display_data"
    }
   ],
   "source": [
    "#pie chart showing the distribution of\n",
    "labels = man_df['vaccine']\n",
    "values = man_df['total_vaccinations']\n",
    "plt.figure(figsize = (10, 10))\n",
    "plt.pie(values, autopct='%.2f%%')\n",
    "plt.title('Total Vaccinations by Manufacturer')\n",
    "plt.legend(labels=labels)\n",
    "plt.savefig('./Output/Manufacturer_Pie')"
   ]
  },
  {
   "cell_type": "code",
   "execution_count": 20,
   "id": "368f2fea-36f6-4111-bc34-44349e44749b",
   "metadata": {},
   "outputs": [
    {
     "data": {
      "image/png": "[encoded data removed]",
      "text/plain": [
       "<Figure size 1080x720 with 1 Axes>"
      ]
     },
     "metadata": {
      "needs_background": "light"
     },
     "output_type": "display_data"
    }
   ],
   "source": [
    "#alternate visualisation of the above as a bar chart\n",
    "xaxis = man_df['vaccine']\n",
    "yaxis = man_df['total_vaccinations']\n",
    "plt.figure(figsize = (15, 10))\n",
    "plt.bar(xaxis, yaxis)\n",
    "plt.title('Total Vaccinations by Manufacturer')\n",
    "plt.xlabel('Manufacturer')\n",
    "plt.ylabel('Total Vaccinations')\n",
    "plt.savefig('./Output/Manufacturer_Bar')"
   ]
  },
  {
   "cell_type": "code",
   "execution_count": 21,
   "id": "1b13528e-c94b-4375-b0d7-c54fa6c79cb0",
   "metadata": {},
   "outputs": [
    {
     "name": "stdout",
     "output_type": "stream",
     "text": [
      "The r-squared is: 0.44202473645176255\n"
     ]
    },
    {
     "data": {
      "image/png": "[encoded data removed]",
      "text/plain": [
       "<Figure size 432x288 with 1 Axes>"
      ]
     },
     "metadata": {
      "needs_background": "light"
     },
     "output_type": "display_data"
    }
   ],
   "source": [
    "#scatter plot showing number of countries a vaccine is available in versus total vaccinations administered of that vaccine\n",
    "xaxis = vax_max['vaccine'].value_counts().sort_index()\n",
    "plt.scatter(xaxis,yaxis)\n",
    "\n",
    "(slope, intercept, rvalue, pvalue, stderr) = linregress(xaxis, yaxis)\n",
    "regress_values = xaxis * slope + intercept\n",
    "line_eq = \"y = \" + str(round(slope,2)) + \"x + \" + str(round(intercept,2))\n",
    "\n",
    "plt.plot(xaxis,regress_values,\"r-\")\n",
    "\n",
    "plt.annotate(line_eq,(6,10),fontsize=15,color=\"red\")\n",
    "plt.xlabel('Number of Countries Vaccine is Approved in')\n",
    "plt.ylabel('Total Vaccinations for Each Type')\n",
    "plt.title('Total Vaccinations vs Vaccine Approval')\n",
    "print(f\"The r-squared is: {rvalue**2}\")\n",
    "plt.savefig('./Output/Vaccines_Approval_Scatter')"
   ]
  },
  {
   "cell_type": "code",
   "execution_count": null,
   "id": "32e649d7-8662-4004-9596-08fe00cc1c69",
   "metadata": {},
   "outputs": [],
   "source": []
  },
  {
   "cell_type": "code",
   "execution_count": null,
   "id": "2cd25223-366b-4540-81fd-9669bd11f665",
   "metadata": {},
   "outputs": [],
   "source": []
  }
 ],
 "metadata": {
  "kernelspec": {
   "display_name": "Python 3",
   "language": "python",
   "name": "python3"
  },
  "language_info": {
   "codemirror_mode": {
    "name": "ipython",
    "version": 3
   },
   "file_extension": ".py",
   "mimetype": "text/x-python",
   "name": "python",
   "nbconvert_exporter": "python",
   "pygments_lexer": "ipython3",
   "version": "3.8.8"
  }
 },
 "nbformat": 4,
 "nbformat_minor": 5
}
